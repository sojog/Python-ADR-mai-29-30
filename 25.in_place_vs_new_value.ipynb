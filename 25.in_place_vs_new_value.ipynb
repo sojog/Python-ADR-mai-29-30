{
 "cells": [
  {
   "cell_type": "code",
   "execution_count": 1,
   "id": "a7bc70ad",
   "metadata": {},
   "outputs": [],
   "source": [
    "# lista  - mutabila\n",
    "# tuplu - imutabila"
   ]
  },
  {
   "cell_type": "code",
   "execution_count": 2,
   "id": "c5a65f35",
   "metadata": {},
   "outputs": [],
   "source": [
    "lista = [39, 12, 30, 40, 10, 300, 50]"
   ]
  },
  {
   "cell_type": "code",
   "execution_count": 3,
   "id": "579e69be",
   "metadata": {},
   "outputs": [
    {
     "data": {
      "text/plain": [
       "[10, 12, 30, 39, 40, 50, 300]"
      ]
     },
     "execution_count": 3,
     "metadata": {},
     "output_type": "execute_result"
    }
   ],
   "source": [
    "sorted(lista)"
   ]
  },
  {
   "cell_type": "code",
   "execution_count": 4,
   "id": "a1632562",
   "metadata": {},
   "outputs": [
    {
     "data": {
      "text/plain": [
       "[39, 12, 30, 40, 10, 300, 50]"
      ]
     },
     "execution_count": 4,
     "metadata": {},
     "output_type": "execute_result"
    }
   ],
   "source": [
    "lista"
   ]
  },
  {
   "cell_type": "code",
   "execution_count": null,
   "id": "591feb89",
   "metadata": {},
   "outputs": [],
   "source": [
    "lista.sort() # in place"
   ]
  },
  {
   "cell_type": "code",
   "execution_count": 6,
   "id": "25327afc",
   "metadata": {},
   "outputs": [
    {
     "data": {
      "text/plain": [
       "[10, 12, 30, 39, 40, 50, 300]"
      ]
     },
     "execution_count": 6,
     "metadata": {},
     "output_type": "execute_result"
    }
   ],
   "source": [
    "lista"
   ]
  },
  {
   "cell_type": "code",
   "execution_count": 8,
   "id": "5a9384e5",
   "metadata": {},
   "outputs": [
    {
     "data": {
      "text/plain": [
       "[300, 50, 40, 39, 30, 12, 10]"
      ]
     },
     "execution_count": 8,
     "metadata": {},
     "output_type": "execute_result"
    }
   ],
   "source": [
    "noua_lista = sorted(lista, reverse=True)\n",
    "noua_lista"
   ]
  },
  {
   "cell_type": "code",
   "execution_count": 9,
   "id": "89e06a20",
   "metadata": {},
   "outputs": [],
   "source": [
    "raspuns = lista.sort(reverse=True)\n",
    "raspuns"
   ]
  },
  {
   "cell_type": "code",
   "execution_count": 11,
   "id": "5fe00710",
   "metadata": {},
   "outputs": [
    {
     "name": "stdout",
     "output_type": "stream",
     "text": [
      "None\n"
     ]
    }
   ],
   "source": [
    "print(raspuns)"
   ]
  },
  {
   "cell_type": "code",
   "execution_count": 12,
   "id": "55c518a2",
   "metadata": {},
   "outputs": [
    {
     "data": {
      "text/plain": [
       "[' ', ' ', 'B', 'a', 'e', 'e', 'i', 'i', 'i', 'n', 'n', 't', 't', 'v']"
      ]
     },
     "execution_count": 12,
     "metadata": {},
     "output_type": "execute_result"
    }
   ],
   "source": [
    "sorted(\"Bine ati venit\")"
   ]
  },
  {
   "cell_type": "code",
   "execution_count": 13,
   "id": "13c23007",
   "metadata": {},
   "outputs": [
    {
     "data": {
      "text/plain": [
       "['Bine', 'ati', 'venit']"
      ]
     },
     "execution_count": 13,
     "metadata": {},
     "output_type": "execute_result"
    }
   ],
   "source": [
    "\"Bine ati venit\".split()"
   ]
  },
  {
   "cell_type": "code",
   "execution_count": 16,
   "id": "b214431f",
   "metadata": {},
   "outputs": [
    {
     "data": {
      "text/plain": [
       "['ati', 'bine', 'la', 'munca', 'venit']"
      ]
     },
     "execution_count": 16,
     "metadata": {},
     "output_type": "execute_result"
    }
   ],
   "source": [
    "sorted(\"bine ati venit la munca\".split())"
   ]
  },
  {
   "cell_type": "code",
   "execution_count": 17,
   "id": "b780094f",
   "metadata": {},
   "outputs": [
    {
     "data": {
      "text/plain": [
       "['la', 'ati', 'bine', 'venit', 'munca']"
      ]
     },
     "execution_count": 17,
     "metadata": {},
     "output_type": "execute_result"
    }
   ],
   "source": [
    "sorted(\"bine ati venit la munca\".split(), key=len)"
   ]
  }
 ],
 "metadata": {
  "kernelspec": {
   "display_name": "Python 3",
   "language": "python",
   "name": "python3"
  },
  "language_info": {
   "codemirror_mode": {
    "name": "ipython",
    "version": 3
   },
   "file_extension": ".py",
   "mimetype": "text/x-python",
   "name": "python",
   "nbconvert_exporter": "python",
   "pygments_lexer": "ipython3",
   "version": "3.13.3"
  }
 },
 "nbformat": 4,
 "nbformat_minor": 5
}
