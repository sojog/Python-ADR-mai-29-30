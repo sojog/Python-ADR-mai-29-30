{
 "cells": [
  {
   "cell_type": "code",
   "execution_count": 1,
   "id": "715cf17a",
   "metadata": {},
   "outputs": [],
   "source": [
    "import requests\n",
    "import json # JavaScript Object Notation"
   ]
  },
  {
   "cell_type": "code",
   "execution_count": 2,
   "id": "ac243cda",
   "metadata": {},
   "outputs": [],
   "source": [
    "URL = \"https://api.chucknorris.io/jokes/random\""
   ]
  },
  {
   "cell_type": "code",
   "execution_count": 3,
   "id": "0dab24e5",
   "metadata": {},
   "outputs": [],
   "source": [
    "response = requests.get(URL)"
   ]
  },
  {
   "cell_type": "code",
   "execution_count": 4,
   "id": "a6f5dcdc",
   "metadata": {},
   "outputs": [
    {
     "data": {
      "text/plain": [
       "200"
      ]
     },
     "execution_count": 4,
     "metadata": {},
     "output_type": "execute_result"
    }
   ],
   "source": [
    "response.status_code"
   ]
  },
  {
   "cell_type": "code",
   "execution_count": 7,
   "id": "8078db28",
   "metadata": {},
   "outputs": [
    {
     "data": {
      "text/plain": [
       "('{\"categories\":[],\"created_at\":\"2020-01-05 13:42:21.795084\",\"icon_url\":\"https://api.chucknorris.io/img/avatar/chuck-norris.png\",\"id\":\"cDe_bUNgRqe0qOKJDaftMg\",\"updated_at\":\"2020-01-05 13:42:21.795084\",\"url\":\"https://api.chucknorris.io/jokes/cDe_bUNgRqe0qOKJDaftMg\",\"value\":\"God is Chuck Norris 3rd cousin\"}',\n",
       " str)"
      ]
     },
     "execution_count": 7,
     "metadata": {},
     "output_type": "execute_result"
    }
   ],
   "source": [
    "response.text, type(response.text)"
   ]
  },
  {
   "cell_type": "code",
   "execution_count": 6,
   "id": "888faf48",
   "metadata": {},
   "outputs": [
    {
     "name": "stdout",
     "output_type": "stream",
     "text": [
      "{'categories': [], 'created_at': '2020-01-05 13:42:21.795084', 'icon_url': 'https://api.chucknorris.io/img/avatar/chuck-norris.png', 'id': 'cDe_bUNgRqe0qOKJDaftMg', 'updated_at': '2020-01-05 13:42:21.795084', 'url': 'https://api.chucknorris.io/jokes/cDe_bUNgRqe0qOKJDaftMg', 'value': 'God is Chuck Norris 3rd cousin'} <class 'dict'>\n"
     ]
    }
   ],
   "source": [
    "parsed_response = response.json()\n",
    "print(parsed_response, type(parsed_response))"
   ]
  },
  {
   "cell_type": "code",
   "execution_count": 8,
   "id": "12301179",
   "metadata": {},
   "outputs": [
    {
     "data": {
      "text/plain": [
       "'God is Chuck Norris 3rd cousin'"
      ]
     },
     "execution_count": 8,
     "metadata": {},
     "output_type": "execute_result"
    }
   ],
   "source": [
    "parsed_response[\"value\"]"
   ]
  }
 ],
 "metadata": {
  "kernelspec": {
   "display_name": "Python 3",
   "language": "python",
   "name": "python3"
  },
  "language_info": {
   "codemirror_mode": {
    "name": "ipython",
    "version": 3
   },
   "file_extension": ".py",
   "mimetype": "text/x-python",
   "name": "python",
   "nbconvert_exporter": "python",
   "pygments_lexer": "ipython3",
   "version": "3.13.3"
  }
 },
 "nbformat": 4,
 "nbformat_minor": 5
}
