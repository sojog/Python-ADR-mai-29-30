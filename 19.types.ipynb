{
 "cells": [
  {
   "cell_type": "code",
   "execution_count": 1,
   "id": "bf1430b9",
   "metadata": {},
   "outputs": [],
   "source": [
    "x = 10\n",
    "y = \"10\"\n",
    "\n"
   ]
  },
  {
   "cell_type": "code",
   "execution_count": 2,
   "id": "5b01378d",
   "metadata": {},
   "outputs": [
    {
     "data": {
      "text/plain": [
       "False"
      ]
     },
     "execution_count": 2,
     "metadata": {},
     "output_type": "execute_result"
    }
   ],
   "source": [
    "x == y"
   ]
  },
  {
   "cell_type": "code",
   "execution_count": 3,
   "id": "fdc33b10",
   "metadata": {},
   "outputs": [
    {
     "data": {
      "text/plain": [
       "True"
      ]
     },
     "execution_count": 3,
     "metadata": {},
     "output_type": "execute_result"
    }
   ],
   "source": [
    "10 == 10.0"
   ]
  },
  {
   "cell_type": "code",
   "execution_count": 4,
   "id": "8ad7c4df",
   "metadata": {},
   "outputs": [
    {
     "data": {
      "text/plain": [
       "False"
      ]
     },
     "execution_count": 4,
     "metadata": {},
     "output_type": "execute_result"
    }
   ],
   "source": [
    "type(10) == type(10.0)"
   ]
  },
  {
   "cell_type": "code",
   "execution_count": 5,
   "id": "7ee59886",
   "metadata": {},
   "outputs": [
    {
     "data": {
      "text/plain": [
       "True"
      ]
     },
     "execution_count": 5,
     "metadata": {},
     "output_type": "execute_result"
    }
   ],
   "source": [
    "isinstance(10, int)"
   ]
  },
  {
   "cell_type": "code",
   "execution_count": 6,
   "id": "cbea8033",
   "metadata": {},
   "outputs": [],
   "source": [
    "class new_int(int):\n",
    "    pass"
   ]
  },
  {
   "cell_type": "code",
   "execution_count": 7,
   "id": "793aee69",
   "metadata": {},
   "outputs": [
    {
     "data": {
      "text/plain": [
       "__main__.new_int"
      ]
     },
     "execution_count": 7,
     "metadata": {},
     "output_type": "execute_result"
    }
   ],
   "source": [
    "new_x = new_int(30) \n",
    "type(new_x)"
   ]
  },
  {
   "cell_type": "code",
   "execution_count": 8,
   "id": "920644c3",
   "metadata": {},
   "outputs": [
    {
     "data": {
      "text/plain": [
       "True"
      ]
     },
     "execution_count": 8,
     "metadata": {},
     "output_type": "execute_result"
    }
   ],
   "source": [
    "isinstance(new_x, int)"
   ]
  },
  {
   "cell_type": "code",
   "execution_count": 9,
   "id": "175acb7f",
   "metadata": {},
   "outputs": [
    {
     "data": {
      "text/plain": [
       "False"
      ]
     },
     "execution_count": 9,
     "metadata": {},
     "output_type": "execute_result"
    }
   ],
   "source": [
    "type(new_x) == int"
   ]
  },
  {
   "cell_type": "code",
   "execution_count": 11,
   "id": "2891be98",
   "metadata": {},
   "outputs": [
    {
     "data": {
      "text/plain": [
       "'10101010101010101010'"
      ]
     },
     "execution_count": 11,
     "metadata": {},
     "output_type": "execute_result"
    }
   ],
   "source": [
    "10 * \"10\""
   ]
  },
  {
   "cell_type": "code",
   "execution_count": null,
   "id": "a84441a9",
   "metadata": {},
   "outputs": [],
   "source": []
  }
 ],
 "metadata": {
  "kernelspec": {
   "display_name": "Python 3",
   "language": "python",
   "name": "python3"
  },
  "language_info": {
   "codemirror_mode": {
    "name": "ipython",
    "version": 3
   },
   "file_extension": ".py",
   "mimetype": "text/x-python",
   "name": "python",
   "nbconvert_exporter": "python",
   "pygments_lexer": "ipython3",
   "version": "3.13.3"
  }
 },
 "nbformat": 4,
 "nbformat_minor": 5
}
