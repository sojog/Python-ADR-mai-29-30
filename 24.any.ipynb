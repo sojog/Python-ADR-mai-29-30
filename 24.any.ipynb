{
 "cells": [
  {
   "cell_type": "code",
   "execution_count": null,
   "id": "8d408e20",
   "metadata": {},
   "outputs": [
    {
     "data": {
      "text/plain": [
       "True"
      ]
     },
     "execution_count": 1,
     "metadata": {},
     "output_type": "execute_result"
    }
   ],
   "source": [
    "lista = [True, False, False]\n",
    "\n",
    "any(lista)"
   ]
  },
  {
   "cell_type": "code",
   "execution_count": 2,
   "id": "52a71d9e",
   "metadata": {},
   "outputs": [
    {
     "data": {
      "text/plain": [
       "False"
      ]
     },
     "execution_count": 2,
     "metadata": {},
     "output_type": "execute_result"
    }
   ],
   "source": [
    "lista = [True, False, False]\n",
    "\n",
    "all(lista)"
   ]
  },
  {
   "cell_type": "code",
   "execution_count": 3,
   "id": "f409137a",
   "metadata": {},
   "outputs": [
    {
     "data": {
      "text/plain": [
       "False"
      ]
     },
     "execution_count": 3,
     "metadata": {},
     "output_type": "execute_result"
    }
   ],
   "source": [
    "lista = [False, False, False]\n",
    "\n",
    "any(lista)"
   ]
  },
  {
   "cell_type": "code",
   "execution_count": 4,
   "id": "61377194",
   "metadata": {},
   "outputs": [
    {
     "data": {
      "text/plain": [
       "True"
      ]
     },
     "execution_count": 4,
     "metadata": {},
     "output_type": "execute_result"
    }
   ],
   "source": [
    "lista = [True, True, True]\n",
    "\n",
    "all(lista)"
   ]
  },
  {
   "cell_type": "code",
   "execution_count": 5,
   "id": "e9ef2d90",
   "metadata": {},
   "outputs": [
    {
     "data": {
      "text/plain": [
       "True"
      ]
     },
     "execution_count": 5,
     "metadata": {},
     "output_type": "execute_result"
    }
   ],
   "source": [
    "lista = [10, 30, 100]\n",
    "\n",
    "all(lista)"
   ]
  },
  {
   "cell_type": "code",
   "execution_count": 6,
   "id": "722b9c7e",
   "metadata": {},
   "outputs": [
    {
     "data": {
      "text/plain": [
       "True"
      ]
     },
     "execution_count": 6,
     "metadata": {},
     "output_type": "execute_result"
    }
   ],
   "source": [
    "bool(100)"
   ]
  },
  {
   "cell_type": "code",
   "execution_count": 7,
   "id": "3b89f0ec",
   "metadata": {},
   "outputs": [
    {
     "data": {
      "text/plain": [
       "False"
      ]
     },
     "execution_count": 7,
     "metadata": {},
     "output_type": "execute_result"
    }
   ],
   "source": [
    "bool(0)"
   ]
  },
  {
   "cell_type": "code",
   "execution_count": 8,
   "id": "4eb131b1",
   "metadata": {},
   "outputs": [
    {
     "name": "stdout",
     "output_type": "stream",
     "text": [
      "Adevarat\n"
     ]
    }
   ],
   "source": [
    "if 100:\n",
    "    print(\"Adevarat\")"
   ]
  },
  {
   "cell_type": "code",
   "execution_count": 9,
   "id": "da718e8f",
   "metadata": {},
   "outputs": [
    {
     "name": "stdout",
     "output_type": "stream",
     "text": [
      "Fals\n"
     ]
    }
   ],
   "source": [
    "if 0:\n",
    "    print(\"Adevarat\")\n",
    "else:\n",
    "    print(\"Fals\")"
   ]
  },
  {
   "cell_type": "code",
   "execution_count": 10,
   "id": "0666d910",
   "metadata": {},
   "outputs": [
    {
     "data": {
      "text/plain": [
       "50"
      ]
     },
     "execution_count": 10,
     "metadata": {},
     "output_type": "execute_result"
    }
   ],
   "source": [
    "sum([10, 10, 30])"
   ]
  },
  {
   "cell_type": "code",
   "execution_count": 11,
   "id": "6afa1a97",
   "metadata": {},
   "outputs": [],
   "source": [
    "import pandas as pd\n",
    "\n",
    "serie = pd.Series([10, 20, 30])"
   ]
  },
  {
   "cell_type": "code",
   "execution_count": 12,
   "id": "114100a4",
   "metadata": {},
   "outputs": [
    {
     "data": {
      "text/plain": [
       "60"
      ]
     },
     "execution_count": 12,
     "metadata": {},
     "output_type": "execute_result"
    }
   ],
   "source": [
    "sum(serie)"
   ]
  },
  {
   "cell_type": "code",
   "execution_count": null,
   "id": "e3e8265a",
   "metadata": {},
   "outputs": [
    {
     "data": {
      "text/plain": [
       "np.int64(60)"
      ]
     },
     "execution_count": 13,
     "metadata": {},
     "output_type": "execute_result"
    }
   ],
   "source": [
    "serie.sum()"
   ]
  },
  {
   "cell_type": "code",
   "execution_count": 14,
   "id": "33b5c2a2",
   "metadata": {},
   "outputs": [
    {
     "data": {
      "text/plain": [
       "30"
      ]
     },
     "execution_count": 14,
     "metadata": {},
     "output_type": "execute_result"
    }
   ],
   "source": [
    "max(serie)"
   ]
  },
  {
   "cell_type": "code",
   "execution_count": 15,
   "id": "b2b9f5a9",
   "metadata": {},
   "outputs": [
    {
     "data": {
      "text/plain": [
       "np.int64(30)"
      ]
     },
     "execution_count": 15,
     "metadata": {},
     "output_type": "execute_result"
    }
   ],
   "source": [
    "serie.max()"
   ]
  },
  {
   "cell_type": "code",
   "execution_count": 16,
   "id": "1b672694",
   "metadata": {},
   "outputs": [
    {
     "data": {
      "text/plain": [
       "np.int64(2)"
      ]
     },
     "execution_count": 16,
     "metadata": {},
     "output_type": "execute_result"
    }
   ],
   "source": [
    "serie.argmax()"
   ]
  },
  {
   "cell_type": "code",
   "execution_count": 18,
   "id": "abbe4782",
   "metadata": {},
   "outputs": [
    {
     "data": {
      "text/plain": [
       "np.int64(0)"
      ]
     },
     "execution_count": 18,
     "metadata": {},
     "output_type": "execute_result"
    }
   ],
   "source": [
    "serie.argmin()"
   ]
  },
  {
   "cell_type": "code",
   "execution_count": 19,
   "id": "53f7a290",
   "metadata": {},
   "outputs": [],
   "source": [
    "serie = pd.Series([100, 220, 30])"
   ]
  },
  {
   "cell_type": "code",
   "execution_count": 20,
   "id": "808aa02c",
   "metadata": {},
   "outputs": [
    {
     "data": {
      "text/plain": [
       "2     30\n",
       "0    100\n",
       "1    220\n",
       "dtype: int64"
      ]
     },
     "execution_count": 20,
     "metadata": {},
     "output_type": "execute_result"
    }
   ],
   "source": [
    "serie.sort_values()"
   ]
  },
  {
   "cell_type": "code",
   "execution_count": null,
   "id": "15da3f0c",
   "metadata": {},
   "outputs": [],
   "source": []
  }
 ],
 "metadata": {
  "kernelspec": {
   "display_name": "Python 3",
   "language": "python",
   "name": "python3"
  },
  "language_info": {
   "codemirror_mode": {
    "name": "ipython",
    "version": 3
   },
   "file_extension": ".py",
   "mimetype": "text/x-python",
   "name": "python",
   "nbconvert_exporter": "python",
   "pygments_lexer": "ipython3",
   "version": "3.13.3"
  }
 },
 "nbformat": 4,
 "nbformat_minor": 5
}
