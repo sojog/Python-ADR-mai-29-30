{
 "cells": [
  {
   "cell_type": "code",
   "execution_count": 1,
   "id": "f0deb3fa",
   "metadata": {},
   "outputs": [],
   "source": [
    "import numpy as np"
   ]
  },
  {
   "cell_type": "code",
   "execution_count": 7,
   "id": "33085a4b",
   "metadata": {},
   "outputs": [
    {
     "data": {
      "text/plain": [
       "(array([0, 1, 2, 3, 4, 5, 6, 7, 8, 9]), dtype('int64'))"
      ]
     },
     "execution_count": 7,
     "metadata": {},
     "output_type": "execute_result"
    }
   ],
   "source": [
    "array = np.arange(10)\n",
    "array, array.dtype"
   ]
  },
  {
   "cell_type": "code",
   "execution_count": 6,
   "id": "0ef2f428",
   "metadata": {},
   "outputs": [
    {
     "data": {
      "text/plain": [
       "array([0, 1, 2, 3, 4, 5, 6, 7, 8, 9])"
      ]
     },
     "execution_count": 6,
     "metadata": {},
     "output_type": "execute_result"
    }
   ],
   "source": [
    "array = np.array( range(10) )\n",
    "array"
   ]
  },
  {
   "cell_type": "code",
   "execution_count": 8,
   "id": "d9763344",
   "metadata": {},
   "outputs": [
    {
     "data": {
      "text/plain": [
       "array([0, 1, 2, 3, 4, 5, 6, 7, 8, 9], dtype=int16)"
      ]
     },
     "execution_count": 8,
     "metadata": {},
     "output_type": "execute_result"
    }
   ],
   "source": [
    "array = np.arange(10,dtype=np.int16)\n",
    "array"
   ]
  },
  {
   "cell_type": "code",
   "execution_count": 11,
   "id": "7d716480",
   "metadata": {},
   "outputs": [
    {
     "name": "stdout",
     "output_type": "stream",
     "text": [
      "[[0 1]\n",
      " [2 3]\n",
      " [4 5]\n",
      " [6 7]\n",
      " [8 9]]\n"
     ]
    }
   ],
   "source": [
    "array = np.arange(10)\n",
    "array = array.reshape((5,2))\n",
    "print(array)"
   ]
  },
  {
   "cell_type": "code",
   "execution_count": 20,
   "id": "223ba470",
   "metadata": {},
   "outputs": [
    {
     "name": "stdout",
     "output_type": "stream",
     "text": [
      "[[0 1 2 3 4]\n",
      " [5 6 7 8 9]] 2\n"
     ]
    }
   ],
   "source": [
    "array = np.arange(10)\n",
    "array = array.reshape((2,5))\n",
    "print(array, array.ndim)"
   ]
  },
  {
   "cell_type": "code",
   "execution_count": 14,
   "id": "dec931b7",
   "metadata": {},
   "outputs": [
    {
     "name": "stdout",
     "output_type": "stream",
     "text": [
      "[0 1 2 3 4 5 6 7 8 9]\n"
     ]
    }
   ],
   "source": [
    "array = np.arange(10)\n",
    "print(array)"
   ]
  },
  {
   "cell_type": "code",
   "execution_count": 15,
   "id": "4d51cb19",
   "metadata": {},
   "outputs": [
    {
     "data": {
      "text/plain": [
       "array([ 20, 310,  30, 100, 410, 302])"
      ]
     },
     "execution_count": 15,
     "metadata": {},
     "output_type": "execute_result"
    }
   ],
   "source": [
    "array = np.array([20, 310, 30, 100, 410, 302])\n",
    "array"
   ]
  },
  {
   "cell_type": "code",
   "execution_count": 17,
   "id": "3c744e99",
   "metadata": {},
   "outputs": [
    {
     "data": {
      "text/plain": [
       "(np.int64(410), np.int64(20))"
      ]
     },
     "execution_count": 17,
     "metadata": {},
     "output_type": "execute_result"
    }
   ],
   "source": [
    "array.max(), array.min()"
   ]
  },
  {
   "cell_type": "code",
   "execution_count": 18,
   "id": "3bbeea38",
   "metadata": {},
   "outputs": [
    {
     "data": {
      "text/plain": [
       "np.float64(195.33333333333334)"
      ]
     },
     "execution_count": 18,
     "metadata": {},
     "output_type": "execute_result"
    }
   ],
   "source": [
    "array.mean()"
   ]
  },
  {
   "cell_type": "code",
   "execution_count": 19,
   "id": "0bdf0eb4",
   "metadata": {},
   "outputs": [
    {
     "data": {
      "text/plain": [
       "1"
      ]
     },
     "execution_count": 19,
     "metadata": {},
     "output_type": "execute_result"
    }
   ],
   "source": [
    "array.ndim"
   ]
  },
  {
   "cell_type": "code",
   "execution_count": 22,
   "id": "995ea8ae",
   "metadata": {},
   "outputs": [
    {
     "data": {
      "text/plain": [
       "10"
      ]
     },
     "execution_count": 22,
     "metadata": {},
     "output_type": "execute_result"
    }
   ],
   "source": [
    "array.size"
   ]
  },
  {
   "cell_type": "code",
   "execution_count": 23,
   "id": "f1f5e4da",
   "metadata": {},
   "outputs": [
    {
     "data": {
      "text/plain": [
       "np.int64(310)"
      ]
     },
     "execution_count": 23,
     "metadata": {},
     "output_type": "execute_result"
    }
   ],
   "source": [
    "array = np.array([20, 310, 30, 100, 410, 302])\n",
    "\n",
    "array[1] "
   ]
  },
  {
   "cell_type": "code",
   "execution_count": 24,
   "id": "a61de44d",
   "metadata": {},
   "outputs": [
    {
     "data": {
      "text/plain": [
       "array([310,  30, 100])"
      ]
     },
     "execution_count": 24,
     "metadata": {},
     "output_type": "execute_result"
    }
   ],
   "source": [
    "array = np.array([20, 310, 30, 100, 410, 302])\n",
    "\n",
    "array[1:4] "
   ]
  },
  {
   "cell_type": "code",
   "execution_count": 25,
   "id": "545c9565",
   "metadata": {},
   "outputs": [
    {
     "data": {
      "text/plain": [
       "array([310, 410, 302])"
      ]
     },
     "execution_count": 25,
     "metadata": {},
     "output_type": "execute_result"
    }
   ],
   "source": [
    "array = np.array([20, 310, 30, 100, 410, 302])\n",
    "array[ array > 100 ]\n"
   ]
  },
  {
   "cell_type": "code",
   "execution_count": 26,
   "id": "43490a0e",
   "metadata": {},
   "outputs": [
    {
     "data": {
      "text/plain": [
       "array([False,  True, False, False,  True,  True])"
      ]
     },
     "execution_count": 26,
     "metadata": {},
     "output_type": "execute_result"
    }
   ],
   "source": [
    "array = np.array([20, 310, 30, 100, 410, 302])\n",
    "array > 100"
   ]
  },
  {
   "cell_type": "code",
   "execution_count": 27,
   "id": "85e846cf",
   "metadata": {},
   "outputs": [
    {
     "data": {
      "text/plain": [
       "array([310, 410, 302])"
      ]
     },
     "execution_count": 27,
     "metadata": {},
     "output_type": "execute_result"
    }
   ],
   "source": [
    "array = np.array([20, 310, 30, 100, 410, 302])\n",
    "conditie = array > 100\n",
    "\n",
    "array[conditie]\n",
    "\n"
   ]
  },
  {
   "cell_type": "code",
   "execution_count": 29,
   "id": "889c5f1c",
   "metadata": {},
   "outputs": [
    {
     "data": {
      "text/plain": [
       "array([310, 302])"
      ]
     },
     "execution_count": 29,
     "metadata": {},
     "output_type": "execute_result"
    }
   ],
   "source": [
    "array = np.array([20, 310, 30, 100, 410, 302])\n",
    "conditie1 = array > 100\n",
    "conditie2 = array < 400\n",
    "\n",
    "array[ conditie1 & conditie2]"
   ]
  },
  {
   "cell_type": "code",
   "execution_count": 32,
   "id": "09eb244c",
   "metadata": {},
   "outputs": [
    {
     "data": {
      "text/plain": [
       "array([310, 302])"
      ]
     },
     "execution_count": 32,
     "metadata": {},
     "output_type": "execute_result"
    }
   ],
   "source": [
    "array = np.array([20, 310, 30, 100, 410, 302])\n",
    "\n",
    "\n",
    "# & - si logic\n",
    "array[ (array > 100) & (array < 400)]"
   ]
  },
  {
   "cell_type": "code",
   "execution_count": 33,
   "id": "ed842d27",
   "metadata": {},
   "outputs": [
    {
     "data": {
      "text/plain": [
       "array([ 20,  30, 410])"
      ]
     },
     "execution_count": 33,
     "metadata": {},
     "output_type": "execute_result"
    }
   ],
   "source": [
    "array = np.array([20, 310, 30, 100, 410, 302])\n",
    "# | - si logic\n",
    "array[ (array < 100) | (array > 400)]\n"
   ]
  },
  {
   "cell_type": "code",
   "execution_count": 34,
   "id": "c8fba083",
   "metadata": {},
   "outputs": [
    {
     "data": {
      "text/plain": [
       "True"
      ]
     },
     "execution_count": 34,
     "metadata": {},
     "output_type": "execute_result"
    }
   ],
   "source": [
    "True or False"
   ]
  },
  {
   "cell_type": "code",
   "execution_count": 35,
   "id": "67a2698d",
   "metadata": {},
   "outputs": [
    {
     "data": {
      "text/plain": [
       "False"
      ]
     },
     "execution_count": 35,
     "metadata": {},
     "output_type": "execute_result"
    }
   ],
   "source": [
    "True and False"
   ]
  },
  {
   "cell_type": "code",
   "execution_count": 37,
   "id": "e3752e16",
   "metadata": {},
   "outputs": [
    {
     "data": {
      "text/plain": [
       "False"
      ]
     },
     "execution_count": 37,
     "metadata": {},
     "output_type": "execute_result"
    }
   ],
   "source": [
    "not True"
   ]
  },
  {
   "cell_type": "code",
   "execution_count": null,
   "id": "61f65428",
   "metadata": {},
   "outputs": [],
   "source": []
  }
 ],
 "metadata": {
  "kernelspec": {
   "display_name": "Python 3",
   "language": "python",
   "name": "python3"
  },
  "language_info": {
   "codemirror_mode": {
    "name": "ipython",
    "version": 3
   },
   "file_extension": ".py",
   "mimetype": "text/x-python",
   "name": "python",
   "nbconvert_exporter": "python",
   "pygments_lexer": "ipython3",
   "version": "3.13.3"
  }
 },
 "nbformat": 4,
 "nbformat_minor": 5
}
