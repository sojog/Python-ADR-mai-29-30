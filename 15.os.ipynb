{
 "cells": [
  {
   "cell_type": "code",
   "execution_count": 1,
   "id": "9af33ba5",
   "metadata": {},
   "outputs": [],
   "source": [
    "import os"
   ]
  },
  {
   "cell_type": "code",
   "execution_count": 3,
   "id": "927989f1",
   "metadata": {},
   "outputs": [
    {
     "name": "stdout",
     "output_type": "stream",
     "text": [
      "['1.requests.py', 'tempCodeRunnerFile.py', '9.oop_public_private.py', '2.request.ipynb', '14.time_sleep.py', '7.oop.py', '11.oop_punct.py', '5.api.ipynb', 'Ziua2', '8.oop.py', 'joke_categories.json', '.gitignore', '12.decoratori.py', '6.api.ipynb', 'curs.html', '10.parametri.py', '11.transformare_bool.py', 'bnr.html', '4.selenium.ipynb', '.git', '15.os.ipynb', '3.request.ipynb', '13.time.py', 'Ziua1']\n"
     ]
    }
   ],
   "source": [
    "print(os.listdir())"
   ]
  },
  {
   "cell_type": "code",
   "execution_count": 4,
   "id": "9256cc7d",
   "metadata": {},
   "outputs": [],
   "source": [
    "os.mkdir(\"FOLDER_DE_TEST\")"
   ]
  },
  {
   "cell_type": "code",
   "execution_count": 5,
   "id": "466bec9c",
   "metadata": {},
   "outputs": [],
   "source": [
    "os.rename(\"joke_categories.json\", \"joke_cat.json\")"
   ]
  },
  {
   "cell_type": "code",
   "execution_count": 6,
   "id": "9856af3e",
   "metadata": {},
   "outputs": [
    {
     "data": {
      "text/plain": [
       "True"
      ]
     },
     "execution_count": 6,
     "metadata": {},
     "output_type": "execute_result"
    }
   ],
   "source": [
    "os.path.isfile(\"joke_cat.json\")"
   ]
  },
  {
   "cell_type": "code",
   "execution_count": 7,
   "id": "d7da505a",
   "metadata": {},
   "outputs": [
    {
     "data": {
      "text/plain": [
       "False"
      ]
     },
     "execution_count": 7,
     "metadata": {},
     "output_type": "execute_result"
    }
   ],
   "source": [
    "os.path.isfile(\"FOLDER_DE_TEST\")"
   ]
  },
  {
   "cell_type": "code",
   "execution_count": 8,
   "id": "f0fb47b0",
   "metadata": {},
   "outputs": [
    {
     "data": {
      "text/plain": [
       "True"
      ]
     },
     "execution_count": 8,
     "metadata": {},
     "output_type": "execute_result"
    }
   ],
   "source": [
    "os.path.exists(\"joke_cat.json\")"
   ]
  },
  {
   "cell_type": "code",
   "execution_count": 9,
   "id": "2066ebbb",
   "metadata": {},
   "outputs": [
    {
     "data": {
      "text/plain": [
       "False"
      ]
     },
     "execution_count": 9,
     "metadata": {},
     "output_type": "execute_result"
    }
   ],
   "source": [
    "os.path.exists(\"joke_cat_dasdasda.json\")"
   ]
  }
 ],
 "metadata": {
  "kernelspec": {
   "display_name": "Python 3",
   "language": "python",
   "name": "python3"
  },
  "language_info": {
   "codemirror_mode": {
    "name": "ipython",
    "version": 3
   },
   "file_extension": ".py",
   "mimetype": "text/x-python",
   "name": "python",
   "nbconvert_exporter": "python",
   "pygments_lexer": "ipython3",
   "version": "3.13.3"
  }
 },
 "nbformat": 4,
 "nbformat_minor": 5
}
