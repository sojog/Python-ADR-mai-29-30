{
 "cells": [
  {
   "cell_type": "code",
   "execution_count": 13,
   "id": "8ee9d3bf",
   "metadata": {},
   "outputs": [],
   "source": [
    "from selenium import webdriver\n",
    "from selenium.webdriver.common.by import By\n",
    "from selenium.webdriver.common.keys import Keys"
   ]
  },
  {
   "cell_type": "code",
   "execution_count": 2,
   "id": "0ae5fc43",
   "metadata": {},
   "outputs": [],
   "source": [
    "browser = webdriver.Chrome()\n",
    "browser.get(\"https://www.bnr.ro/\")"
   ]
  },
  {
   "cell_type": "code",
   "execution_count": 5,
   "id": "d4bfbc64",
   "metadata": {},
   "outputs": [],
   "source": [
    "accept_button = browser.find_element(By.ID, \"accept-cookies\")\n",
    "accept_button.click()"
   ]
  },
  {
   "cell_type": "code",
   "execution_count": 6,
   "id": "58b9b203",
   "metadata": {},
   "outputs": [],
   "source": [
    "xpath  = '//*[@id=\"784\"]/div/div[1]/div/div/div[3]/div/div[2]/span'"
   ]
  },
  {
   "cell_type": "code",
   "execution_count": 7,
   "id": "038790b2",
   "metadata": {},
   "outputs": [
    {
     "data": {
      "text/plain": [
       "<selenium.webdriver.remote.webelement.WebElement (session=\"a5a137fc9004d2cbb3bf076e7f02a0e7\", element=\"f.F3D63D2654F46E4AB04210E756343929.d.D32567713C001EF6C2544E05BB1F9578.e.1239\")>"
      ]
     },
     "execution_count": 7,
     "metadata": {},
     "output_type": "execute_result"
    }
   ],
   "source": [
    "euro_span = browser.find_element(By.XPATH, xpath)\n",
    "euro_span"
   ]
  },
  {
   "cell_type": "code",
   "execution_count": 8,
   "id": "8b9885c8",
   "metadata": {},
   "outputs": [
    {
     "data": {
      "text/plain": [
       "'5.0667'"
      ]
     },
     "execution_count": 8,
     "metadata": {},
     "output_type": "execute_result"
    }
   ],
   "source": [
    "euro_span.text"
   ]
  },
  {
   "cell_type": "code",
   "execution_count": 9,
   "id": "24cde69e",
   "metadata": {},
   "outputs": [],
   "source": [
    "search_button = browser.find_element(By.ID, \"open-search\")\n",
    "search_button.click()"
   ]
  },
  {
   "cell_type": "code",
   "execution_count": 10,
   "id": "258359fa",
   "metadata": {},
   "outputs": [],
   "source": [
    "search_text = browser.find_element(By.ID, \"search-text\")\n",
    "search_text.send_keys(\"Isarescu\")"
   ]
  },
  {
   "cell_type": "code",
   "execution_count": 14,
   "id": "07d984e7",
   "metadata": {},
   "outputs": [],
   "source": [
    "search_text.send_keys(Keys.ENTER)"
   ]
  },
  {
   "cell_type": "code",
   "execution_count": 17,
   "id": "d27cd1b0",
   "metadata": {},
   "outputs": [],
   "source": [
    "browser.close()"
   ]
  }
 ],
 "metadata": {
  "kernelspec": {
   "display_name": "Python 3",
   "language": "python",
   "name": "python3"
  },
  "language_info": {
   "codemirror_mode": {
    "name": "ipython",
    "version": 3
   },
   "file_extension": ".py",
   "mimetype": "text/x-python",
   "name": "python",
   "nbconvert_exporter": "python",
   "pygments_lexer": "ipython3",
   "version": "3.13.3"
  }
 },
 "nbformat": 4,
 "nbformat_minor": 5
}
