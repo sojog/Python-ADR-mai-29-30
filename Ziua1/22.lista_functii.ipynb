{
 "cells": [
  {
   "cell_type": "code",
   "execution_count": 2,
   "id": "1956cf69",
   "metadata": {},
   "outputs": [
    {
     "name": "stdout",
     "output_type": "stream",
     "text": [
      "[32, 32, 51, 53, 31, 4312, 312, 41, 412]\n"
     ]
    }
   ],
   "source": [
    "l = [32, 32, 51, 53,  31, 4312, 312, 41, 412]\n",
    "print(l)"
   ]
  },
  {
   "cell_type": "code",
   "execution_count": 3,
   "id": "271321da",
   "metadata": {},
   "outputs": [
    {
     "name": "stdout",
     "output_type": "stream",
     "text": [
      "[32, 32, 51, 53, 31, 4312, 312, 41, 412, 10000]\n"
     ]
    }
   ],
   "source": [
    "l = [32, 32, 51, 53,  31, 4312, 312, 41, 412]\n",
    "l.append(10000)\n",
    "print(l)"
   ]
  },
  {
   "cell_type": "code",
   "execution_count": 4,
   "id": "0c5cf5fd",
   "metadata": {},
   "outputs": [
    {
     "name": "stdout",
     "output_type": "stream",
     "text": [
      "[10000, 32, 32, 51, 53, 31, 4312, 312, 41, 412]\n"
     ]
    }
   ],
   "source": [
    "l = [32, 32, 51, 53,  31, 4312, 312, 41, 412]\n",
    "l.insert(0, 10000)\n",
    "print(l)"
   ]
  },
  {
   "cell_type": "code",
   "execution_count": 5,
   "id": "de2cdb56",
   "metadata": {},
   "outputs": [
    {
     "name": "stdout",
     "output_type": "stream",
     "text": [
      "[32, 10000, 32, 51, 53, 31, 4312, 312, 41, 412]\n"
     ]
    }
   ],
   "source": [
    "l = [32, 32, 51, 53,  31, 4312, 312, 41, 412]\n",
    "l.insert(1, 10000)\n",
    "print(l)"
   ]
  },
  {
   "cell_type": "code",
   "execution_count": 6,
   "id": "02936621",
   "metadata": {},
   "outputs": [
    {
     "name": "stdout",
     "output_type": "stream",
     "text": [
      "[32, 32, 51, 53, 31, 4312, 312, 41]\n"
     ]
    }
   ],
   "source": [
    "l = [32, 32, 51, 53,  31, 4312, 312, 41, 412]\n",
    "l.pop()\n",
    "print(l)"
   ]
  },
  {
   "cell_type": "code",
   "execution_count": 7,
   "id": "71b6e066",
   "metadata": {},
   "outputs": [
    {
     "name": "stdout",
     "output_type": "stream",
     "text": [
      "[32, 32, 51, 53, 31, 4312]\n"
     ]
    }
   ],
   "source": [
    "l = [32, 32, 51, 53,  31, 4312, 312, 41, 412]\n",
    "l.pop()\n",
    "l.pop()\n",
    "l.pop()\n",
    "print(l)"
   ]
  },
  {
   "cell_type": "code",
   "execution_count": 8,
   "id": "87a52883",
   "metadata": {},
   "outputs": [
    {
     "name": "stdout",
     "output_type": "stream",
     "text": [
      "[32, 32, 51, 31, 4312, 312, 41, 412]\n"
     ]
    }
   ],
   "source": [
    "l = [32, 32, 51, 53,  31, 4312, 312, 41, 412]\n",
    "l.pop(3)\n",
    "print(l)"
   ]
  },
  {
   "cell_type": "code",
   "execution_count": 9,
   "id": "1613edb9",
   "metadata": {},
   "outputs": [
    {
     "name": "stdout",
     "output_type": "stream",
     "text": [
      "[32, 32, 51, 53, 31, 4312, 312, 41, 412, 100]\n"
     ]
    }
   ],
   "source": [
    "l = [32, 32, 51, 53,  31, 4312, 312, 41, 412]\n",
    "l.append(100)\n",
    "print(l)"
   ]
  },
  {
   "cell_type": "code",
   "execution_count": 11,
   "id": "728417c1",
   "metadata": {},
   "outputs": [
    {
     "name": "stdout",
     "output_type": "stream",
     "text": [
      "[32, 32, 51, 53, 31, 4312, 312, 41, 199, 3000, 412]\n"
     ]
    }
   ],
   "source": [
    "l = [32, 32, 51, 53,  31, 4312, 312, 41, 199, 412]\n",
    "l.insert(-1, 3000)\n",
    "print(l)"
   ]
  },
  {
   "cell_type": "code",
   "execution_count": 12,
   "id": "e048ca79",
   "metadata": {},
   "outputs": [
    {
     "name": "stdout",
     "output_type": "stream",
     "text": [
      "[]\n"
     ]
    }
   ],
   "source": [
    "l = [32, 32, 51, 53,  31, 4312, 312, 41, 199, 412]\n",
    "l.clear()\n",
    "print(l)"
   ]
  },
  {
   "cell_type": "code",
   "execution_count": 13,
   "id": "f3a8bbb1",
   "metadata": {},
   "outputs": [
    {
     "name": "stdout",
     "output_type": "stream",
     "text": [
      "['schimbat', 32, 51, 53, 31, 4312, 312, 41, 199, 412]\n"
     ]
    }
   ],
   "source": [
    "l = [32, 32, 51, 53,  31, 4312, 312, 41, 199, 412]\n",
    "l[0] = \"schimbat\"\n",
    "print(l)"
   ]
  },
  {
   "cell_type": "code",
   "execution_count": 16,
   "id": "989ab580",
   "metadata": {},
   "outputs": [
    {
     "name": "stdout",
     "output_type": "stream",
     "text": [
      "i= 32\n",
      "i= 32\n",
      "i= 51\n"
     ]
    }
   ],
   "source": [
    "l = [32, 32, 51]\n",
    "\n",
    "for i in l:\n",
    "    print(\"i=\", i)\n"
   ]
  }
 ],
 "metadata": {
  "kernelspec": {
   "display_name": "Python 3",
   "language": "python",
   "name": "python3"
  },
  "language_info": {
   "codemirror_mode": {
    "name": "ipython",
    "version": 3
   },
   "file_extension": ".py",
   "mimetype": "text/x-python",
   "name": "python",
   "nbconvert_exporter": "python",
   "pygments_lexer": "ipython3",
   "version": "3.13.3"
  }
 },
 "nbformat": 4,
 "nbformat_minor": 5
}
