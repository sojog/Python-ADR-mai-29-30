{
 "cells": [
  {
   "cell_type": "code",
   "execution_count": 1,
   "id": "4ee4085a",
   "metadata": {},
   "outputs": [],
   "source": [
    "import os"
   ]
  },
  {
   "cell_type": "code",
   "execution_count": 3,
   "id": "5fbbd4a1",
   "metadata": {},
   "outputs": [],
   "source": [
    "toate_fisierele = os.listdir()"
   ]
  },
  {
   "cell_type": "code",
   "execution_count": 5,
   "id": "7539c4f1",
   "metadata": {},
   "outputs": [
    {
     "name": "stdout",
     "output_type": "stream",
     "text": [
      "fisier2.txt\n",
      "fisier1.txt\n"
     ]
    }
   ],
   "source": [
    "fisiere_text = []\n",
    "\n",
    "for f in toate_fisierele:\n",
    "    if f.startswith(\"fisier\"):\n",
    "        print(f)\n",
    "        fisiere_text.append(f)\n"
   ]
  },
  {
   "cell_type": "code",
   "execution_count": 8,
   "id": "c91c1e67",
   "metadata": {},
   "outputs": [
    {
     "name": "stdout",
     "output_type": "stream",
     "text": [
      "['2cf24dba5fb0a30e26e83b2ac5b9e29e1b161e5c1fa7425e73043362938b9824\\n']\n"
     ]
    }
   ],
   "source": [
    "hashes = []\n",
    "for filename in fisiere_text:\n",
    "    with open(filename) as freader:\n",
    "        lines = freader.readlines()\n",
    "        if lines[0] not in hashes:\n",
    "            hashes.append(lines[0])\n",
    "\n",
    "print(hashes)\n"
   ]
  }
 ],
 "metadata": {
  "kernelspec": {
   "display_name": "Python 3",
   "language": "python",
   "name": "python3"
  },
  "language_info": {
   "codemirror_mode": {
    "name": "ipython",
    "version": 3
   },
   "file_extension": ".py",
   "mimetype": "text/x-python",
   "name": "python",
   "nbconvert_exporter": "python",
   "pygments_lexer": "ipython3",
   "version": "3.13.3"
  }
 },
 "nbformat": 4,
 "nbformat_minor": 5
}
