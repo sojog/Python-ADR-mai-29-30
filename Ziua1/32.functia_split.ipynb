{
 "cells": [
  {
   "cell_type": "code",
   "execution_count": 2,
   "id": "af7151ba",
   "metadata": {},
   "outputs": [
    {
     "name": "stdout",
     "output_type": "stream",
     "text": [
      "['200', '300', '400', '500']\n"
     ]
    }
   ],
   "source": [
    "string = \"200,300,400,500\"\n",
    "\n",
    "print(string.split(\",\"))"
   ]
  },
  {
   "cell_type": "code",
   "execution_count": 3,
   "id": "a4c9c2e5",
   "metadata": {},
   "outputs": [
    {
     "name": "stdout",
     "output_type": "stream",
     "text": [
      "['2', ',3', ',4', ',5', '']\n"
     ]
    }
   ],
   "source": [
    "string = \"200,300,400,500\"\n",
    "\n",
    "print(string.split(\"00\"))"
   ]
  },
  {
   "cell_type": "code",
   "execution_count": 4,
   "id": "140f2dbb",
   "metadata": {},
   "outputs": [
    {
     "name": "stdout",
     "output_type": "stream",
     "text": [
      "['2', '3', '4', '500']\n"
     ]
    }
   ],
   "source": [
    "string = \"200,300,400,500\"\n",
    "\n",
    "print(string.split(\"00,\"))"
   ]
  }
 ],
 "metadata": {
  "kernelspec": {
   "display_name": "Python 3",
   "language": "python",
   "name": "python3"
  },
  "language_info": {
   "codemirror_mode": {
    "name": "ipython",
    "version": 3
   },
   "file_extension": ".py",
   "mimetype": "text/x-python",
   "name": "python",
   "nbconvert_exporter": "python",
   "pygments_lexer": "ipython3",
   "version": "3.13.3"
  }
 },
 "nbformat": 4,
 "nbformat_minor": 5
}
