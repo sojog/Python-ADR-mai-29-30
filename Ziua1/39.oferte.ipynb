{
 "cells": [
  {
   "cell_type": "code",
   "execution_count": null,
   "id": "e3bb4a75",
   "metadata": {},
   "outputs": [],
   "source": [
    "oferte = [\n",
    "    {\"hotel\": \"Granada Luxury Resort\", \"preț\": 1200, \"destinație\": \"Alanya\"},\n",
    "    {\"hotel\": \"Oz Hotels Sui Resort\", \"preț\": 950, \"destinație\": \"Antalya\"},\n",
    "    {\"hotel\": \"Hotel Delphin Deluxe\", \"preț\": 1350, \"destinație\": \"Alanya\"}\n",
    "    ]"
   ]
  },
  {
   "cell_type": "code",
   "execution_count": 4,
   "id": "e5756f7d",
   "metadata": {},
   "outputs": [
    {
     "data": {
      "text/plain": [
       "({'hotel': 'Granada Luxury Resort', 'preț': 1200, 'destinație': 'Alanya'},\n",
       " dict)"
      ]
     },
     "execution_count": 4,
     "metadata": {},
     "output_type": "execute_result"
    }
   ],
   "source": [
    "oferte[0], type(oferte[0])"
   ]
  },
  {
   "cell_type": "code",
   "execution_count": 8,
   "id": "beae655f",
   "metadata": {},
   "outputs": [
    {
     "name": "stdout",
     "output_type": "stream",
     "text": [
      "Oz Hotels Sui Resort\n"
     ]
    }
   ],
   "source": [
    "for d in oferte:\n",
    "    if d[\"preț\"] < 1000:\n",
    "        print(d[\"hotel\"])"
   ]
  },
  {
   "cell_type": "code",
   "execution_count": 12,
   "id": "3bd21d89",
   "metadata": {},
   "outputs": [
    {
     "name": "stdout",
     "output_type": "stream",
     "text": [
      "['Granada Luxury Resort', 'Oz Hotels Sui Resort']\n"
     ]
    }
   ],
   "source": [
    "hoteluri = []\n",
    "for d in oferte:\n",
    "    if d[\"preț\"] < 1300:\n",
    "        hoteluri.append(d[\"hotel\"])\n",
    "\n",
    "print(hoteluri)"
   ]
  },
  {
   "cell_type": "code",
   "execution_count": 16,
   "id": "e0dfaa14",
   "metadata": {},
   "outputs": [
    {
     "name": "stdout",
     "output_type": "stream",
     "text": [
      "Un alt hotel... în Antalya - 950 EUR\n"
     ]
    }
   ],
   "source": [
    "oferte = [\n",
    "    {\"hotel\": \"Un hotel...\", \"preț\": 1200, \"destinație\": \"Alanya\"},\n",
    "    {\"hotel\": \"Un alt hotel...\", \"preț\": 950, \"destinație\": \"Antalya\"},\n",
    "    {\"hotel\": \"Hotel Delphin Deluxe\", \"preț\": 1350, \"destinație\": \"Alanya\"}\n",
    "]\n",
    "\n",
    "# Filtrare hoteluri cu preț < 1000\n",
    "oferte_filtrate = [d for d in oferte if d[\"preț\"] < 1000]\n",
    "\n",
    "# Afișare rezultate\n",
    "for oferta in oferte_filtrate:\n",
    "    print(f\"{oferta['hotel']} în {oferta['destinație']} - {oferta['preț']} EUR\")\n"
   ]
  }
 ],
 "metadata": {
  "kernelspec": {
   "display_name": "Python 3",
   "language": "python",
   "name": "python3"
  },
  "language_info": {
   "codemirror_mode": {
    "name": "ipython",
    "version": 3
   },
   "file_extension": ".py",
   "mimetype": "text/x-python",
   "name": "python",
   "nbconvert_exporter": "python",
   "pygments_lexer": "ipython3",
   "version": "3.13.3"
  }
 },
 "nbformat": 4,
 "nbformat_minor": 5
}
