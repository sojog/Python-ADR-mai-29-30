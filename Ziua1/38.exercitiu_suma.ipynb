{
 "cells": [
  {
   "cell_type": "code",
   "execution_count": 1,
   "id": "28c29237",
   "metadata": {},
   "outputs": [
    {
     "name": "stdout",
     "output_type": "stream",
     "text": [
      "['10', '2', '3', '50', '1']\n"
     ]
    }
   ],
   "source": [
    "string = \"10,2,3,50,1\"\n",
    "numere = string.split(\",\")\n",
    "print(numere)\n",
    "\n"
   ]
  },
  {
   "cell_type": "code",
   "execution_count": null,
   "id": "a18a56f6",
   "metadata": {},
   "outputs": [
    {
     "data": {
      "text/plain": [
       "66"
      ]
     },
     "execution_count": 3,
     "metadata": {},
     "output_type": "execute_result"
    }
   ],
   "source": [
    "sum([10, 2, 3, 50, 1])"
   ]
  },
  {
   "cell_type": "code",
   "execution_count": 4,
   "id": "d8888f9b",
   "metadata": {},
   "outputs": [
    {
     "name": "stdout",
     "output_type": "stream",
     "text": [
      "[10, 2, 3, 50, 1]\n"
     ]
    }
   ],
   "source": [
    "numere = ['10', '2', '3', '50', '1']\n",
    "print(list(map(int, numere)))"
   ]
  },
  {
   "cell_type": "code",
   "execution_count": null,
   "id": "c3fd61be",
   "metadata": {},
   "outputs": [
    {
     "name": "stdout",
     "output_type": "stream",
     "text": [
      "[10, 2, 3, 50, 1]\n"
     ]
    }
   ],
   "source": [
    "\n",
    "numere = ['10', '2', '3', '50', '1']\n",
    "numere_inturi = []\n",
    "for nr in numere:\n",
    "    numere_inturi.append(int(nr))\n",
    "print(numere_inturi)\n",
    "\n",
    "\n"
   ]
  },
  {
   "cell_type": "markdown",
   "id": "6483a680",
   "metadata": {},
   "source": [
    "# List comprehention"
   ]
  },
  {
   "cell_type": "code",
   "execution_count": 7,
   "id": "451a627e",
   "metadata": {},
   "outputs": [
    {
     "name": "stdout",
     "output_type": "stream",
     "text": [
      "[10, 2, 3, 50, 1]\n"
     ]
    }
   ],
   "source": [
    "numere = ['10', '2', '3', '50', '1']\n",
    "numere_inturi = [ int(nr)  for nr in numere ]\n",
    "print(numere_inturi)"
   ]
  },
  {
   "cell_type": "code",
   "execution_count": 8,
   "id": "b39d1c88",
   "metadata": {},
   "outputs": [
    {
     "name": "stdout",
     "output_type": "stream",
     "text": [
      "['qwerty', 'qwerty', 'qwerty', 'qwerty', 'qwerty']\n"
     ]
    }
   ],
   "source": [
    "numere = ['10', '2', '3', '50', '1']\n",
    "numere_inturi = [ \"qwerty\"  for nr in numere ]\n",
    "print(numere_inturi)"
   ]
  }
 ],
 "metadata": {
  "kernelspec": {
   "display_name": "Python 3",
   "language": "python",
   "name": "python3"
  },
  "language_info": {
   "codemirror_mode": {
    "name": "ipython",
    "version": 3
   },
   "file_extension": ".py",
   "mimetype": "text/x-python",
   "name": "python",
   "nbconvert_exporter": "python",
   "pygments_lexer": "ipython3",
   "version": "3.13.3"
  }
 },
 "nbformat": 4,
 "nbformat_minor": 5
}
