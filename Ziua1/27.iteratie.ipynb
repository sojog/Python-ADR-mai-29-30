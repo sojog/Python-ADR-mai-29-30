{
 "cells": [
  {
   "cell_type": "code",
   "execution_count": 1,
   "id": "bc5def06",
   "metadata": {},
   "outputs": [
    {
     "name": "stdout",
     "output_type": "stream",
     "text": [
      "34\n",
      "20\n",
      "100\n"
     ]
    }
   ],
   "source": [
    "valori = [34, 20, 100]\n",
    "for i in valori:\n",
    "    print(i)"
   ]
  },
  {
   "cell_type": "code",
   "execution_count": 2,
   "id": "fa0df77a",
   "metadata": {},
   "outputs": [
    {
     "name": "stdout",
     "output_type": "stream",
     "text": [
      "0\n",
      "1\n",
      "2\n"
     ]
    }
   ],
   "source": [
    "valori = [34, 20, 100]\n",
    "for i in range(3):\n",
    "    print(i)"
   ]
  },
  {
   "cell_type": "code",
   "execution_count": 4,
   "id": "4e5d2d8f",
   "metadata": {},
   "outputs": [
    {
     "name": "stdout",
     "output_type": "stream",
     "text": [
      "0\n",
      "1\n",
      "2\n",
      "3\n"
     ]
    }
   ],
   "source": [
    "valori = [34, 20, 100, 44]\n",
    "for i in range(len(valori)):\n",
    "    print(i)"
   ]
  },
  {
   "cell_type": "code",
   "execution_count": 5,
   "id": "0135b122",
   "metadata": {},
   "outputs": [
    {
     "name": "stdout",
     "output_type": "stream",
     "text": [
      "34\n",
      "20\n",
      "100\n",
      "44\n"
     ]
    }
   ],
   "source": [
    "valori = [34, 20, 100, 44]\n",
    "for i in range(len(valori)):\n",
    "    print(valori[i])"
   ]
  },
  {
   "cell_type": "code",
   "execution_count": 6,
   "id": "3f2c01b3",
   "metadata": {},
   "outputs": [
    {
     "name": "stdout",
     "output_type": "stream",
     "text": [
      "(0, 34)\n",
      "(1, 20)\n",
      "(2, 100)\n",
      "(3, 44)\n"
     ]
    }
   ],
   "source": [
    "valori = [34, 20, 100, 44]\n",
    "for i in enumerate(valori):\n",
    "    print(i)"
   ]
  },
  {
   "cell_type": "code",
   "execution_count": 8,
   "id": "879f57cb",
   "metadata": {},
   "outputs": [
    {
     "name": "stdout",
     "output_type": "stream",
     "text": [
      "index= 0 elementul= 34\n",
      "index= 1 elementul= 20\n",
      "index= 2 elementul= 100\n",
      "index= 3 elementul= 44\n"
     ]
    }
   ],
   "source": [
    "valori = [34, 20, 100, 44]\n",
    "for index, elem in enumerate(valori):\n",
    "    print(\"index=\", index, \"elementul=\", elem)"
   ]
  }
 ],
 "metadata": {
  "kernelspec": {
   "display_name": "Python 3",
   "language": "python",
   "name": "python3"
  },
  "language_info": {
   "codemirror_mode": {
    "name": "ipython",
    "version": 3
   },
   "file_extension": ".py",
   "mimetype": "text/x-python",
   "name": "python",
   "nbconvert_exporter": "python",
   "pygments_lexer": "ipython3",
   "version": "3.13.3"
  }
 },
 "nbformat": 4,
 "nbformat_minor": 5
}
