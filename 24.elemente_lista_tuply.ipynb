{
 "cells": [
  {
   "cell_type": "code",
   "execution_count": 2,
   "id": "2409a5f1",
   "metadata": {},
   "outputs": [
    {
     "name": "stdout",
     "output_type": "stream",
     "text": [
      "[1, 2, 3]\n"
     ]
    }
   ],
   "source": [
    "x = [1, 2, 3]\n",
    "print(x)"
   ]
  },
  {
   "cell_type": "code",
   "execution_count": 3,
   "id": "e1784d79",
   "metadata": {},
   "outputs": [
    {
     "name": "stdout",
     "output_type": "stream",
     "text": [
      "(1, 2, 3)\n"
     ]
    }
   ],
   "source": [
    "x = (1, 2, 3)\n",
    "print(x)"
   ]
  },
  {
   "cell_type": "code",
   "execution_count": 4,
   "id": "7ba143ee",
   "metadata": {},
   "outputs": [
    {
     "name": "stdout",
     "output_type": "stream",
     "text": [
      "[1, 2, 3, [32, 41]]\n"
     ]
    }
   ],
   "source": [
    "x = [1, 2, 3, [32, 41]]\n",
    "print(x)"
   ]
  },
  {
   "cell_type": "code",
   "execution_count": 5,
   "id": "fee96152",
   "metadata": {},
   "outputs": [
    {
     "name": "stdout",
     "output_type": "stream",
     "text": [
      "[1, 2, 3, [32, 41]]\n",
      "[32, 41]\n"
     ]
    }
   ],
   "source": [
    "x = [1, 2, 3, [32, 41]]\n",
    "print(x)\n",
    "print(x[3])"
   ]
  },
  {
   "cell_type": "code",
   "execution_count": 6,
   "id": "181b30bb",
   "metadata": {},
   "outputs": [
    {
     "name": "stdout",
     "output_type": "stream",
     "text": [
      "[1, 2, 3, [32, 41]]\n",
      "[32, 41]\n",
      "32\n"
     ]
    }
   ],
   "source": [
    "x = [1, 2, 3, [32, 41]]\n",
    "print(x)\n",
    "print(x[3])\n",
    "print(x[3][0])\n",
    "\n",
    "\n"
   ]
  },
  {
   "cell_type": "code",
   "execution_count": 7,
   "id": "3aad8770",
   "metadata": {},
   "outputs": [
    {
     "name": "stdout",
     "output_type": "stream",
     "text": [
      "(1, 2, 3, [32, 41])\n",
      "[32, 41]\n",
      "32\n"
     ]
    }
   ],
   "source": [
    "x = (1, 2, 3, [32, 41])\n",
    "print(x)\n",
    "print(x[3])\n",
    "print(x[3][0])"
   ]
  },
  {
   "cell_type": "code",
   "execution_count": 8,
   "id": "84922202",
   "metadata": {},
   "outputs": [
    {
     "name": "stdout",
     "output_type": "stream",
     "text": [
      "[1, 2, 3, ['cuvinte', 41], [[[[[[[[[]]]]]]]]]]\n",
      "['cuvinte', 41]\n",
      "cuvinte\n"
     ]
    }
   ],
   "source": [
    "x = [1, 2, 3, [\"cuvinte\", 41], ([[[[[[[[[]]]]]]]]])]\n",
    "print(x)\n",
    "print(x[3])\n",
    "print(x[3][0])"
   ]
  },
  {
   "cell_type": "code",
   "execution_count": 9,
   "id": "558f22c5",
   "metadata": {},
   "outputs": [
    {
     "name": "stdout",
     "output_type": "stream",
     "text": [
      "[1, 2, 3, ['cuvinte', 41], 'salutare']\n",
      "['cuvinte', 41]\n",
      "cuvinte\n"
     ]
    }
   ],
   "source": [
    "var = \"salutare\"\n",
    "x = [1, 2, 3, [\"cuvinte\", 41], var]\n",
    "print(x)\n",
    "print(x[3])\n",
    "print(x[3][0])"
   ]
  }
 ],
 "metadata": {
  "kernelspec": {
   "display_name": "Python 3",
   "language": "python",
   "name": "python3"
  },
  "language_info": {
   "codemirror_mode": {
    "name": "ipython",
    "version": 3
   },
   "file_extension": ".py",
   "mimetype": "text/x-python",
   "name": "python",
   "nbconvert_exporter": "python",
   "pygments_lexer": "ipython3",
   "version": "3.13.3"
  }
 },
 "nbformat": 4,
 "nbformat_minor": 5
}
