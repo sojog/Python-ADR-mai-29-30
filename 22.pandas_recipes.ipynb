{
 "cells": [
  {
   "cell_type": "code",
   "execution_count": 25,
   "id": "c10dd3c6",
   "metadata": {},
   "outputs": [],
   "source": [
    "import pandas as pd\n",
    "import requests\n",
    "import json"
   ]
  },
  {
   "cell_type": "code",
   "execution_count": 26,
   "id": "cfef291e",
   "metadata": {},
   "outputs": [],
   "source": [
    "response = requests.get(\"https://dummyjson.com/recipes?limit=0\")\n",
    "json_resp = response.json()"
   ]
  },
  {
   "cell_type": "code",
   "execution_count": 27,
   "id": "e0a7b064",
   "metadata": {},
   "outputs": [],
   "source": [
    "recipes_list =  json_resp[\"recipes\"]\n"
   ]
  },
  {
   "cell_type": "code",
   "execution_count": 28,
   "id": "d8576e9e",
   "metadata": {},
   "outputs": [
    {
     "data": {
      "text/plain": [
       "dict_keys(['id', 'name', 'ingredients', 'instructions', 'prepTimeMinutes', 'cookTimeMinutes', 'servings', 'difficulty', 'cuisine', 'caloriesPerServing', 'tags', 'userId', 'image', 'rating', 'reviewCount', 'mealType'])"
      ]
     },
     "execution_count": 28,
     "metadata": {},
     "output_type": "execute_result"
    }
   ],
   "source": [
    "recipes_list[0].keys()"
   ]
  },
  {
   "cell_type": "code",
   "execution_count": 29,
   "id": "88e71d3f",
   "metadata": {},
   "outputs": [],
   "source": [
    "key_values = [ \"name\", 'prepTimeMinutes', 'cookTimeMinutes', 'servings', 'difficulty', 'cuisine', 'caloriesPerServing', 'rating', 'reviewCount']"
   ]
  },
  {
   "cell_type": "code",
   "execution_count": 30,
   "id": "7f82060b",
   "metadata": {},
   "outputs": [],
   "source": [
    "recipe_list = [ { key:recipes_list[i][key] for key in recipes_list[i] if key in key_values } for i in range(len(recipes_list))]\n"
   ]
  },
  {
   "cell_type": "code",
   "execution_count": 31,
   "id": "50065fd6",
   "metadata": {},
   "outputs": [],
   "source": [
    "df = pd.DataFrame(recipe_list)\n",
    "df.to_csv(\"recipe.csv\")"
   ]
  },
  {
   "cell_type": "code",
   "execution_count": null,
   "id": "43138666",
   "metadata": {},
   "outputs": [],
   "source": []
  }
 ],
 "metadata": {
  "kernelspec": {
   "display_name": "Python 3",
   "language": "python",
   "name": "python3"
  },
  "language_info": {
   "codemirror_mode": {
    "name": "ipython",
    "version": 3
   },
   "file_extension": ".py",
   "mimetype": "text/x-python",
   "name": "python",
   "nbconvert_exporter": "python",
   "pygments_lexer": "ipython3",
   "version": "3.13.3"
  }
 },
 "nbformat": 4,
 "nbformat_minor": 5
}
