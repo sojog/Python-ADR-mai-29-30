{
 "cells": [
  {
   "cell_type": "code",
   "execution_count": null,
   "id": "c843dec3",
   "metadata": {},
   "outputs": [],
   "source": [
    "# 1700, 1800, 1900, 2100 -> nu sunt bisecti # sunt divizibil cu 100, dar nu cu 400\n",
    "# 1600, 2000, 2400 -> sunt \n",
    "# 1704, 2020 -> sunt"
   ]
  }
 ],
 "metadata": {
  "language_info": {
   "name": "python"
  }
 },
 "nbformat": 4,
 "nbformat_minor": 5
}
