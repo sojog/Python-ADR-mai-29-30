{
 "cells": [
  {
   "cell_type": "code",
   "execution_count": 2,
   "id": "37536a69",
   "metadata": {},
   "outputs": [
    {
     "name": "stdout",
     "output_type": "stream",
     "text": [
      "<Response [200]>\n",
      "200\n"
     ]
    }
   ],
   "source": [
    "import requests\n",
    "from bs4 import BeautifulSoup\n",
    "\n",
    "\n",
    "response = requests.get(\"https://www.cursbnr.ro/\")\n",
    "print(response)\n",
    "print(response.status_code)\n",
    "\n",
    "\n"
   ]
  },
  {
   "cell_type": "code",
   "execution_count": 3,
   "id": "0c5e6845",
   "metadata": {},
   "outputs": [],
   "source": [
    "soup = BeautifulSoup(response.text, \"html.parser\")"
   ]
  },
  {
   "cell_type": "code",
   "execution_count": 5,
   "id": "8a8ba300",
   "metadata": {},
   "outputs": [],
   "source": [
    "currency_values  = soup.find_all('div', class_ = \"value\")"
   ]
  },
  {
   "cell_type": "code",
   "execution_count": 6,
   "id": "d7ab6f0b",
   "metadata": {},
   "outputs": [],
   "source": [
    "euro_ron =  currency_values[0]"
   ]
  },
  {
   "cell_type": "code",
   "execution_count": 8,
   "id": "396a3802",
   "metadata": {},
   "outputs": [
    {
     "data": {
      "text/plain": [
       "(<div class=\"value\">1 EURO = 5.0667 Lei</div>, bs4.element.Tag)"
      ]
     },
     "execution_count": 8,
     "metadata": {},
     "output_type": "execute_result"
    }
   ],
   "source": [
    "euro_ron, type(euro_ron)"
   ]
  },
  {
   "cell_type": "code",
   "execution_count": 9,
   "id": "5d226b13",
   "metadata": {},
   "outputs": [
    {
     "data": {
      "text/plain": [
       "'1 EURO = 5.0667 Lei'"
      ]
     },
     "execution_count": 9,
     "metadata": {},
     "output_type": "execute_result"
    }
   ],
   "source": [
    "euro_ron.text"
   ]
  }
 ],
 "metadata": {
  "kernelspec": {
   "display_name": "Python 3",
   "language": "python",
   "name": "python3"
  },
  "language_info": {
   "codemirror_mode": {
    "name": "ipython",
    "version": 3
   },
   "file_extension": ".py",
   "mimetype": "text/x-python",
   "name": "python",
   "nbconvert_exporter": "python",
   "pygments_lexer": "ipython3",
   "version": "3.13.3"
  }
 },
 "nbformat": 4,
 "nbformat_minor": 5
}
