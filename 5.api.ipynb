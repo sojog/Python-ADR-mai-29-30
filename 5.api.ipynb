{
 "cells": [
  {
   "cell_type": "code",
   "execution_count": 6,
   "id": "b367cede",
   "metadata": {},
   "outputs": [],
   "source": [
    "import requests\n",
    "import json # JavaScript Object Notation"
   ]
  },
  {
   "cell_type": "code",
   "execution_count": 2,
   "id": "d4408875",
   "metadata": {},
   "outputs": [],
   "source": [
    "URL = \"https://api.chucknorris.io/jokes/categories\""
   ]
  },
  {
   "cell_type": "code",
   "execution_count": 3,
   "id": "bc4a29d4",
   "metadata": {},
   "outputs": [],
   "source": [
    "response = requests.get(URL)"
   ]
  },
  {
   "cell_type": "code",
   "execution_count": 4,
   "id": "72330c69",
   "metadata": {},
   "outputs": [
    {
     "data": {
      "text/plain": [
       "200"
      ]
     },
     "execution_count": 4,
     "metadata": {},
     "output_type": "execute_result"
    }
   ],
   "source": [
    "response.status_code"
   ]
  },
  {
   "cell_type": "code",
   "execution_count": 5,
   "id": "03ad8878",
   "metadata": {},
   "outputs": [
    {
     "data": {
      "text/plain": [
       "'[\"animal\",\"career\",\"celebrity\",\"dev\",\"explicit\",\"fashion\",\"food\",\"history\",\"money\",\"movie\",\"music\",\"political\",\"religion\",\"science\",\"sport\",\"travel\"]'"
      ]
     },
     "execution_count": 5,
     "metadata": {},
     "output_type": "execute_result"
    }
   ],
   "source": [
    "response.text"
   ]
  },
  {
   "cell_type": "code",
   "execution_count": 7,
   "id": "09ba51b6",
   "metadata": {},
   "outputs": [],
   "source": [
    "with open(\"joke_categories.json\", \"w\") as fwriter:\n",
    "    fwriter.write(response.text)"
   ]
  },
  {
   "cell_type": "code",
   "execution_count": 9,
   "id": "ce01f84d",
   "metadata": {},
   "outputs": [
    {
     "name": "stdout",
     "output_type": "stream",
     "text": [
      "['animal', 'career', 'celebrity', 'dev', 'explicit', 'fashion', 'food', 'history', 'money', 'movie', 'music', 'political', 'religion', 'science', 'sport', 'travel'] <class 'list'>\n"
     ]
    }
   ],
   "source": [
    "parsed_response = response.json()\n",
    "print(parsed_response, type(parsed_response))"
   ]
  },
  {
   "cell_type": "code",
   "execution_count": 10,
   "id": "53948e02",
   "metadata": {},
   "outputs": [
    {
     "data": {
      "text/plain": [
       "'animal'"
      ]
     },
     "execution_count": 10,
     "metadata": {},
     "output_type": "execute_result"
    }
   ],
   "source": [
    "parsed_response[0]"
   ]
  }
 ],
 "metadata": {
  "kernelspec": {
   "display_name": "Python 3",
   "language": "python",
   "name": "python3"
  },
  "language_info": {
   "codemirror_mode": {
    "name": "ipython",
    "version": 3
   },
   "file_extension": ".py",
   "mimetype": "text/x-python",
   "name": "python",
   "nbconvert_exporter": "python",
   "pygments_lexer": "ipython3",
   "version": "3.13.3"
  }
 },
 "nbformat": 4,
 "nbformat_minor": 5
}
