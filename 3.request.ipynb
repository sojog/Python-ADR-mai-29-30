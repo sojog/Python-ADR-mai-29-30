{
 "cells": [
  {
   "cell_type": "code",
   "execution_count": 5,
   "id": "e91625f5",
   "metadata": {},
   "outputs": [
    {
     "name": "stdout",
     "output_type": "stream",
     "text": [
      "<Response [200]>\n",
      "200\n"
     ]
    }
   ],
   "source": [
    "import requests\n",
    "from bs4 import BeautifulSoup\n",
    "\n",
    "\n",
    "response = requests.get(\"https://www.bnr.ro/\")\n",
    "print(response)\n",
    "print(response.status_code)\n"
   ]
  },
  {
   "cell_type": "code",
   "execution_count": 6,
   "id": "d792f33d",
   "metadata": {},
   "outputs": [],
   "source": [
    "soup = BeautifulSoup(response.text, \"html.parser\")"
   ]
  },
  {
   "cell_type": "code",
   "execution_count": 7,
   "id": "2d3169ab",
   "metadata": {},
   "outputs": [
    {
     "data": {
      "text/plain": [
       "([], 0)"
      ]
     },
     "execution_count": 7,
     "metadata": {},
     "output_type": "execute_result"
    }
   ],
   "source": [
    "currency_values  = soup.find_all('div', class_ = \"row-card\")\n",
    "currency_values, len(currency_values)"
   ]
  },
  {
   "cell_type": "code",
   "execution_count": 8,
   "id": "eb211c2c",
   "metadata": {},
   "outputs": [
    {
     "data": {
      "text/plain": [
       "[<span></span>,\n",
       " <span></span>,\n",
       " <span></span>,\n",
       " <span></span>,\n",
       " <span></span>,\n",
       " <span></span>]"
      ]
     },
     "execution_count": 8,
     "metadata": {},
     "output_type": "execute_result"
    }
   ],
   "source": [
    "spans = soup.find_all('span')\n",
    "spans"
   ]
  },
  {
   "cell_type": "code",
   "execution_count": 9,
   "id": "53072edc",
   "metadata": {},
   "outputs": [],
   "source": [
    "with open(\"bnr\", \"w\") as fwriter:\n",
    "    fwriter.write(response.text)"
   ]
  }
 ],
 "metadata": {
  "kernelspec": {
   "display_name": "Python 3",
   "language": "python",
   "name": "python3"
  },
  "language_info": {
   "codemirror_mode": {
    "name": "ipython",
    "version": 3
   },
   "file_extension": ".py",
   "mimetype": "text/x-python",
   "name": "python",
   "nbconvert_exporter": "python",
   "pygments_lexer": "ipython3",
   "version": "3.13.3"
  }
 },
 "nbformat": 4,
 "nbformat_minor": 5
}
